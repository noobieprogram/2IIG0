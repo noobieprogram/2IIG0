{
 "cells": [
  {
   "cell_type": "code",
   "execution_count": 1,
   "metadata": {},
   "outputs": [],
   "source": [
    "import matplotlib.pyplot as plt\n",
    "from pandas import read_excel\n",
    "from network import NeuralNetwork\n",
    "from sklearn.preprocessing import minmax_scale"
   ]
  },
  {
   "cell_type": "code",
   "execution_count": 2,
   "metadata": {},
   "outputs": [],
   "source": [
    "best = [0.5, 0.7]\n",
    "worst = [0.001, 0.4]\n",
    "\n"
   ]
  },
  {
   "cell_type": "code",
   "execution_count": 3,
   "metadata": {},
   "outputs": [],
   "source": [
    "df = read_excel('HW3train.xlsx')\n",
    "x0 = minmax_scale(df['X_0'].tolist())\n",
    "x1 = minmax_scale(df['X_1'].tolist())\n",
    "y = df['y'].tolist()\n",
    "training_sets = []\n",
    "for i in range(len(x0)):\n",
    "    training_sets.append([[x0[i],x1[i]],[y[i]]])\n",
    "    \n",
    "df = read_excel('HW3validate.xlsx')\n",
    "x0 = minmax_scale(df['X_0'].tolist())\n",
    "x1 = minmax_scale(df['X_1'].tolist())\n",
    "y = df['y'].tolist()\n",
    "validation_sets = []\n",
    "for i in range(len(x0)):\n",
    "    validation_sets.append([[x0[i],x1[i]],[y[i]]])"
   ]
  },
  {
   "cell_type": "code",
   "execution_count": 4,
   "metadata": {},
   "outputs": [],
   "source": [
    "import math\n",
    "\n",
    "y_train = []\n",
    "y_eval = []\n",
    "x_epochs = []\n",
    "\n",
    "\n",
    "nn = NeuralNetwork(2, 10, 10, 1, std = best[1], learning_rate = best[0])\n",
    "\n",
    "prev_error = 2\n",
    "error = 1\n",
    "iteration = 0\n",
    "epochs = 0\n",
    "BATCH_SIZE = 32\n",
    "\n",
    "\n",
    "activations1 = []\n",
    "activations2 = []\n",
    "activations3 = []\n",
    "\n",
    "\n",
    "to_print = True\n",
    "while epochs < 35:\n",
    "    nn.train(training_sets[BATCH_SIZE*iteration:BATCH_SIZE+BATCH_SIZE*iteration])\n",
    "    \n",
    "    \n",
    "    if epochs == 0 or epochs == 18 or epochs == 34:\n",
    "        for i in range(len(validation_sets)):\n",
    "            if to_print:\n",
    "                if epochs == 0:\n",
    "                    activations1.append(nn.get_outputs(validation_sets[i][0]))\n",
    "                elif epochs == 18:\n",
    "                    activations2.append(nn.get_outputs(validation_sets[i][0]))\n",
    "                elif epochs == 34:\n",
    "                    activations3.append(nn.get_outputs(validation_sets[i][0]))\n",
    "        to_print = False\n",
    "    else:\n",
    "        to_print = True\n",
    "    \n",
    "    y_train.append(nn.calculate_total_error(training_sets))\n",
    "    y_eval.append(nn.calculate_total_error(validation_sets))\n",
    "    x_epochs.append(epochs)\n",
    "    \n",
    "    if nn.calculate_total_error(training_sets) < 0.15:\n",
    "        break\n",
    "    iteration += 1\n",
    "    if iteration % (math.ceil(len(training_sets) / BATCH_SIZE)) == 0:\n",
    "        iteration = 0\n",
    "        epochs += 1\n",
    "nn.undo()"
   ]
  },
  {
   "cell_type": "code",
   "execution_count": 5,
   "metadata": {},
   "outputs": [
    {
     "data": {
      "text/plain": [
       "<matplotlib.axes._subplots.AxesSubplot at 0x1142b5668>"
      ]
     },
     "execution_count": 5,
     "metadata": {},
     "output_type": "execute_result"
    },
    {
     "data": {
      "image/png": "[encoded data removed]",
      "text/plain": [
       "<Figure size 432x288 with 2 Axes>"
      ]
     },
     "metadata": {
      "needs_background": "light"
     },
     "output_type": "display_data"
    }
   ],
   "source": [
    "import seaborn as sns\n",
    "\n",
    "# neuron_id = ['1.1', '1.2', '1.3', '1.4', '1.5', '1.6', '1.7', '1.8', '1.9', '1.10', '2.1', '2.2', '2.3', '2.4', '2.5', '2.6', '2.7', '2.8', '2.9', '2.10', 'output']\n",
    "\n",
    "# dataid = [i for i in range(len(validation_sets))]\n",
    "# plt.clf()\n",
    "sns.heatmap(activations3)\n"
   ]
  }
 ],
 "metadata": {
  "kernelspec": {
   "display_name": "Python 3",
   "language": "python",
   "name": "python3"
  },
  "language_info": {
   "codemirror_mode": {
    "name": "ipython",
    "version": 3
   },
   "file_extension": ".py",
   "mimetype": "text/x-python",
   "name": "python",
   "nbconvert_exporter": "python",
   "pygments_lexer": "ipython3",
   "version": "3.7.0"
  }
 },
 "nbformat": 4,
 "nbformat_minor": 2
}
