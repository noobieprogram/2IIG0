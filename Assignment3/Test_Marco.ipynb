{
 "cells": [
  {
   "cell_type": "code",
   "execution_count": 1,
   "metadata": {},
   "outputs": [],
   "source": [
    "import random\n",
    "import math\n",
    "import numpy as np\n",
    "import pandas as pd\n",
    "from sklearn.preprocessing import minmax_scale\n",
    "import matplotlib.pyplot as plt\n",
    "from network import NeuralNetwork"
   ]
  },
  {
   "cell_type": "code",
   "execution_count": 2,
   "metadata": {
    "jupyter": {
     "source_hidden": true
    }
   },
   "outputs": [],
   "source": [
    "def plots(loss_fun: str):\n",
    "    plt.figure(figsize=(7.5,4))\n",
    "    plt.plot(x_epochs, y_train, label='Training')\n",
    "    plt.plot(x_epochs, y_eval, label='Validation')\n",
    "\n",
    "    plt.xlabel('Epochs')\n",
    "    plt.ylabel(loss_fun)\n",
    "\n",
    "    plt.title(\"Plot of '{}' over training and validation data\".format(loss_fun))\n",
    "\n",
    "    plt.legend()\n",
    "    plt.savefig('fig1.png', dpi = 300)\n",
    "    plt.show()"
   ]
  },
  {
   "cell_type": "code",
   "execution_count": 3,
   "metadata": {},
   "outputs": [
    {
     "data": {
      "image/png": "[encoded data removed]",
      "text/plain": [
       "<Figure size 540x288 with 1 Axes>"
      ]
     },
     "metadata": {
      "needs_background": "light"
     },
     "output_type": "display_data"
    },
    {
     "name": "stdout",
     "output_type": "stream",
     "text": [
      "Configuration: 0.25, cross, leaky, leaky, sigmoid, 32\n",
      "Validation set total error:  0.18678977163756166\n",
      "Training set total error:  0.18112147553015967\n",
      "True positives: 40\n",
      "True negatives: 38\n",
      "False positives: 3\n",
      "False negatives: 1\n",
      "Count correct: 78\n",
      "Num epochs: 20\n"
     ]
    }
   ],
   "source": [
    "df = pd.read_excel('HW3train.xlsx')\n",
    "x0 = minmax_scale(df['X_0'].tolist())\n",
    "x1 = minmax_scale(df['X_1'].tolist())\n",
    "y = df['y'].tolist()\n",
    "training_sets = []\n",
    "for i in range(len(x0)):\n",
    "    training_sets.append([[x0[i],x1[i]],[y[i]]])\n",
    "\n",
    "df = pd.read_excel('HW3validate.xlsx')\n",
    "x0 = minmax_scale(df['X_0'].tolist())\n",
    "x1 = minmax_scale(df['X_1'].tolist())\n",
    "y = df['y'].tolist()\n",
    "validation_sets = []\n",
    "for i in range(len(x0)):\n",
    "    validation_sets.append([[x0[i],x1[i]],[y[i]]])\n",
    "\n",
    "y_train = []\n",
    "y_eval = []\n",
    "x_epochs = []\n",
    "params = [0.25, \"cross\", \"leaky\", \"leaky\", \"sigmoid\"]\n",
    "\n",
    "nn = NeuralNetwork(2, 10, 10, 1, learning_rate=params[0], loss_function=params[1], hidden_layer_1_activation=params[2], hidden_layer_2_activation=params[3], output_layer_activation=params[4])\n",
    "prev_error = 2\n",
    "error = 1\n",
    "iteration = 0\n",
    "epochs = 0\n",
    "BATCH_SIZE = 32\n",
    "\n",
    "if BATCH_SIZE > 0:\n",
    "    while True:\n",
    "        nn.train(training_sets[BATCH_SIZE*iteration:BATCH_SIZE+BATCH_SIZE*iteration])\n",
    "        y_train.append(nn.calculate_total_error(training_sets))\n",
    "        y_eval.append(nn.calculate_total_error(validation_sets))\n",
    "        x_epochs.append(epochs)\n",
    "        if nn.calculate_total_error(training_sets) < 0.15:\n",
    "            break\n",
    "        iteration += 1\n",
    "        if iteration % (math.ceil(len(training_sets) / BATCH_SIZE)) == 0:\n",
    "            iteration = 0\n",
    "            epochs += 1\n",
    "else:\n",
    "    while True:\n",
    "        nn.train(training_sets)\n",
    "        error = nn.calculate_total_error(training_sets)\n",
    "        y_train.append(error)\n",
    "        y_eval.append(nn.calculate_total_error(validation_sets))\n",
    "        x_epochs.append(iteration)\n",
    "        if error < 0.15:\n",
    "            break\n",
    "        iteration += 1\n",
    "        epochs += 1\n",
    "        if iteration == 1000:\n",
    "            break\n",
    "plots(\"Cross-Entropy\")\n",
    "nn.undo()\n",
    "\n",
    "print(\"Configuration: {}, {}, {}, {}, {}, {}\".format(params[0], params[1],params[2],params[3],params[4], BATCH_SIZE))\n",
    "print(\"Validation set total error: \", nn.calculate_total_error(validation_sets))\n",
    "print(\"Training set total error: \", nn.calculate_total_error(training_sets))\n",
    "# nn.print_expected_predicted(validation_sets)\n",
    "print(\"True positives:\",nn.true_positive(validation_sets))\n",
    "print(\"True negatives:\",nn.true_negative(validation_sets))\n",
    "print(\"False positives:\",nn.false_positive(validation_sets))\n",
    "print(\"False negatives:\",nn.false_negative(validation_sets))\n",
    "print(\"Count correct:\",nn.count_correct(validation_sets))\n",
    "print(\"Num epochs:\", epochs)"
   ]
  }
 ],
 "metadata": {
  "kernelspec": {
   "display_name": "Python 3",
   "language": "python",
   "name": "python3"
  },
  "language_info": {
   "codemirror_mode": {
    "name": "ipython",
    "version": 3
   },
   "file_extension": ".py",
   "mimetype": "text/x-python",
   "name": "python",
   "nbconvert_exporter": "python",
   "pygments_lexer": "ipython3",
   "version": "3.8.0"
  }
 },
 "nbformat": 4,
 "nbformat_minor": 4
}
