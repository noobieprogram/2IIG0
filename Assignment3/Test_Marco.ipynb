{
 "cells": [
  {
   "cell_type": "code",
   "execution_count": null,
   "metadata": {},
   "outputs": [],
   "source": [
    "import random\n",
    "import math\n",
    "import numpy as np\n",
    "import pandas as pd\n",
    "from sklearn.preprocessing import minmax_scale\n",
    "import matplotlib.pyplot as plt\n",
    "from network import NeuralNetwork"
   ]
  },
  {
   "cell_type": "code",
   "execution_count": null,
   "metadata": {},
   "outputs": [],
   "source": [
    "random.seed(9001)\n",
    "\n",
    "df = pd.read_excel('HW3train.xlsx')\n",
    "x0 = df['X_0'].tolist()\n",
    "x1 = df['X_1'].tolist()\n",
    "y = df['y'].tolist()\n",
    "training_sets = []\n",
    "for i in range(len(x0)):\n",
    "    training_sets.append([[x0[i], x1[i]], [y[i]]])\n",
    "\n",
    "df = pd.read_excel('HW3validate.xlsx')\n",
    "x0 = df['X_0'].tolist()\n",
    "x1 = df['X_1'].tolist()\n",
    "y = df['y'].tolist()\n",
    "validation_sets = []\n",
    "for i in range(len(x0)):\n",
    "    validation_sets.append([[x0[i], x1[i]], [y[i]]])\n",
    "\n",
    "\n",
    "# for the plots ------------------------------\n",
    "x_epochs = [] # epochs on the x-axis\n",
    "y_train = [] # mse train\n",
    "y_val = [] # mse validation\n",
    "# --------------------------------------------"
   ]
  },
  {
   "cell_type": "code",
   "execution_count": null,
   "metadata": {},
   "outputs": [],
   "source": [
    "nn = NeuralNetwork(2, 10, 10, 1)\n",
    "BATCH_SIZE = 32\n",
    "epochs = 0\n",
    "iterations = 0"
   ]
  },
  {
   "cell_type": "code",
   "execution_count": null,
   "metadata": {},
   "outputs": [],
   "source": [
    "if BATCH_SIZE > 0:\n",
    "    while epochs < 10:\n",
    "        nn.train(training_sets[BATCH_SIZE*iterations:BATCH_SIZE+BATCH_SIZE*iterations])\n",
    "        y_train.append(nn.calculate_total_error(training_sets))\n",
    "        y_val.append(nn.calculate_total_error(validation_sets))\n",
    "        x_epochs.append(epochs)\n",
    "        iterations += 1\n",
    "        if iterations % (math.ceil(len(training_sets) / BATCH_SIZE)) == 0:\n",
    "            iterations = 0\n",
    "            epochs += 1\n"
   ]
  },
  {
   "cell_type": "code",
   "execution_count": null,
   "metadata": {},
   "outputs": [],
   "source": [
    "def plots():\n",
    "    plt.plot(x_epochs, y_train, label='Training')\n",
    "    plt.plot(x_epochs, y_val, label='Validation')\n",
    "\n",
    "    plt.xlabel('Epochs')\n",
    "    plt.ylabel('MSE')\n",
    "\n",
    "    plt.title(\"Plot of MSE over training and validation data\")\n",
    "\n",
    "    plt.legend()\n",
    "\n",
    "    plt.show()"
   ]
  },
  {
   "cell_type": "code",
   "execution_count": null,
   "metadata": {},
   "outputs": [],
   "source": [
    "plots() # with mini-batches"
   ]
  },
  {
   "cell_type": "code",
   "execution_count": null,
   "metadata": {},
   "outputs": [],
   "source": [
    "nn.undo()\n",
    "y_train = []\n",
    "y_eval = []\n",
    "x_epochs = []\n",
    "epochs = 0\n",
    "while epochs < 250:\n",
    "    nn.train(training_sets)\n",
    "    y_train.append(nn.calculate_total_error(training_sets))\n",
    "    y_eval.append(nn.calculate_total_error(validation_sets))\n",
    "    x_epochs.append(epochs)\n",
    "    epochs += 1"
   ]
  },
  {
   "cell_type": "code",
   "execution_count": null,
   "metadata": {},
   "outputs": [],
   "source": [
    "plots()"
   ]
  }
 ],
 "metadata": {
  "kernelspec": {
   "display_name": "Python 3",
   "language": "python",
   "name": "python3"
  },
  "language_info": {
   "codemirror_mode": {
    "name": "ipython",
    "version": 3
   },
   "file_extension": ".py",
   "mimetype": "text/x-python",
   "name": "python",
   "nbconvert_exporter": "python",
   "pygments_lexer": "ipython3",
   "version": "3.8.0"
  }
 },
 "nbformat": 4,
 "nbformat_minor": 4
}
